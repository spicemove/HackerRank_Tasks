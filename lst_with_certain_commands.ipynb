{
 "cells": [
  {
   "cell_type": "code",
   "execution_count": 28,
   "metadata": {},
   "outputs": [],
   "source": [
    "lst = []"
   ]
  },
  {
   "cell_type": "code",
   "execution_count": 32,
   "metadata": {},
   "outputs": [],
   "source": [
    "n = int(input())"
   ]
  },
  {
   "cell_type": "code",
   "execution_count": 34,
   "metadata": {},
   "outputs": [],
   "source": [
    "def commands(command_str):\n",
    "    input_lst = command_str.split()\n",
    "    # insert isthe inser command run avvali\n",
    "    if input_lst[0] == 'insert':\n",
    "        lst.insert(int(input_lst[1]), int(input_lst[2]))\n",
    "    # print isthe list print avvali\n",
    "    elif input_lst[0] == 'print':\n",
    "        print(lst)\n",
    "    # remove iste remove command run avvali\n",
    "    elif input_lst[0] == 'remove':\n",
    "        lst.remove(int(input_lst[1]))\n",
    "    # append isthe append command run avvali\n",
    "    elif input_lst[0] == 'append':\n",
    "        lst.append(int(input_lst[1]))\n",
    "    # sort isthe sort command run avvali\n",
    "    elif input_lst[0] == 'sort':\n",
    "        lst.sort()\n",
    "    # pop isthe pop command run avvali\n",
    "    elif input_lst[0] == 'pop':\n",
    "        lst.pop(-1)\n",
    "    # reverse isthe reverse command run avvali\n",
    "    elif input_lst[0] == 'reverse':\n",
    "        lst.reverse()"
   ]
  },
  {
   "cell_type": "code",
   "execution_count": 35,
   "metadata": {},
   "outputs": [
    {
     "name": "stdout",
     "output_type": "stream",
     "text": [
      "[6, 5, 10]\n",
      "[1, 5, 9, 10]\n",
      "[9, 5, 1]\n"
     ]
    }
   ],
   "source": [
    "for i in range(n):\n",
    "    commands(input())"
   ]
  }
 ],
 "metadata": {
  "interpreter": {
   "hash": "3800d282d0ef474e40c9925a3a1752aaa9cade59b925cbcd72c80ae7b2098f25"
  },
  "kernelspec": {
   "display_name": "Python 3.10.2 ('.venv': venv)",
   "language": "python",
   "name": "python3"
  },
  "language_info": {
   "codemirror_mode": {
    "name": "ipython",
    "version": 3
   },
   "file_extension": ".py",
   "mimetype": "text/x-python",
   "name": "python",
   "nbconvert_exporter": "python",
   "pygments_lexer": "ipython3",
   "version": "3.10.2"
  },
  "orig_nbformat": 4
 },
 "nbformat": 4,
 "nbformat_minor": 2
}
