{
 "cells": [
  {
   "cell_type": "code",
   "execution_count": 9,
   "metadata": {},
   "outputs": [
    {
     "name": "stdout",
     "output_type": "stream",
     "text": [
      "5\n"
     ]
    }
   ],
   "source": [
    "n = int(input())\n",
    "x = input()\n",
    "a = []\n",
    "b = []\n",
    "a1 = []\n",
    "\n",
    "a = x.split()\n",
    "\n",
    "for i in range(len(a)):\n",
    "    a1.append(int(a[i]))\n",
    "\n",
    "a1.sort()\n",
    "\n",
    "for i in list(range(0, len(a1))):\n",
    "    if int(a1[i]) not in b:\n",
    "        b.append(int(a1[i])) \n",
    "\n",
    "        \n",
    "print(b[-2])"
   ]
  }
 ],
 "metadata": {
  "interpreter": {
   "hash": "3c03f8f5ee2aa58dad1470af5f6ea17a0aa390b065c7469704bee19f603070d4"
  },
  "kernelspec": {
   "display_name": "Python 3.10.2 ('.venv': venv)",
   "language": "python",
   "name": "python3"
  },
  "language_info": {
   "codemirror_mode": {
    "name": "ipython",
    "version": 3
   },
   "file_extension": ".py",
   "mimetype": "text/x-python",
   "name": "python",
   "nbconvert_exporter": "python",
   "pygments_lexer": "ipython3",
   "version": "3.10.2"
  },
  "orig_nbformat": 4
 },
 "nbformat": 4,
 "nbformat_minor": 2
}
